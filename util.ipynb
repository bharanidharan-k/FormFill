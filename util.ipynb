{
 "cells": [
  {
   "cell_type": "code",
   "execution_count": 137,
   "id": "thirty-tooth",
   "metadata": {},
   "outputs": [],
   "source": [
    "import os\n",
    "import time\n",
    "import pandas as pd\n",
    "from selenium import webdriver\n",
    "from selenium.webdriver.common.keys import Keys\n",
    "from selenium.webdriver.common.action_chains import ActionChains\n",
    "from selenium.webdriver.support.ui import Select\n",
    "\n",
    "%config IPCompleter.greedy=True"
   ]
  },
  {
   "cell_type": "code",
   "execution_count": 138,
   "id": "worldwide-oakland",
   "metadata": {},
   "outputs": [],
   "source": [
    "df = pd.read_excel(\"./nism_registration.xlsx\")\n",
    "df = df[df.to_be_registered=='Yes']\n",
    "registration_data = df.to_dict(orient='records')"
   ]
  },
  {
   "cell_type": "code",
   "execution_count": 144,
   "id": "silent-supervision",
   "metadata": {},
   "outputs": [],
   "source": [
    "\n",
    "def uploadImage(driver, data, imgName, id):\n",
    "    try:\n",
    "        imagePath = os.getcwd()+'/'+data['firstName']+'/'+data['firstName']+imgName+'.jpeg'\n",
    "        print(imagePath)\n",
    "        if os.path.exists(imagePath):\n",
    "            driver.find_element_by_id(id).click()\n",
    "            driver.switch_to.frame(0);\n",
    "            driver.find_element_by_id('flpPhoto').send_keys(imagePath)\n",
    "            time.sleep(2)\n",
    "            driver.find_element_by_id('btnUpload').click()\n",
    "            s = driver.find_element_by_class_name('jcrop-holder').get_attribute('style')\n",
    "            w = int(s[s.index(\"width: \")+7:s.index(\"px;\")])\n",
    "            h = int(s[s.index(\"height: \")+8:s.rindex(\"px;\")])\n",
    "            action = ActionChains(driver)\n",
    "            action.click_and_hold(on_element = driver.find_element_by_class_name('jcrop-tracker'))\n",
    "            action.move_by_offset(w, h)\n",
    "            action.release()\n",
    "            action.perform()\n",
    "            driver.find_element_by_id('btnCrop').click()\n",
    "            time.sleep(3)\n",
    "            driver.find_element_by_id('btnSubmit').click()\n",
    "            time.sleep(4)\n",
    "    except:\n",
    "        pass\n",
    "\n",
    "\n",
    "def fillGender(driver, data):\n",
    "    try:\n",
    "        if data['gender'] == 'M' or data['gender'].lower() == 'male':\n",
    "            Select(driver.find_element_by_id('ddlTitle')).select_by_index(1)\n",
    "            Select(driver.find_element_by_id('ddlGender')).select_by_index(1)\n",
    "\n",
    "        else:\n",
    "            Select(driver.find_element_by_id('ddlTitle')).select_by_index(2)\n",
    "            Select(driver.find_element_by_id('ddlGender')).select_by_index(2)\n",
    "    except:\n",
    "        pass\n",
    "\n",
    "\n",
    "def fillContactDetails(driver, data):\n",
    "    try:\n",
    "        address = data['address']\n",
    "        address_lines = address.split(',')\n",
    "        Select(driver.find_element_by_id('ddlCountry')).select_by_index(1)\n",
    "        driver.find_element_by_id('txtAddress1').send_keys((address_lines[0] + address_lines[1]).strip())\n",
    "        driver.find_element_by_id('txtAddress2').send_keys(address_lines[2].strip())\n",
    "        driver.find_element_by_id('txtAddress3').send_keys(address_lines[-1].strip())\n",
    "        driver.find_element_by_id('txtCity').send_keys(data['city'])\n",
    "        driver.find_element_by_id('txtPinCode').send_keys(data['pincode'])\n",
    "        Select(driver.find_element_by_id('ddlState')).select_by_index(32)\n",
    "        driver.find_element_by_id('txtMobile').send_keys(data['mobile'])\n",
    "    except:\n",
    "        pass\n",
    "\n",
    "\n",
    "def fillPersonalDetails(driver, data):\n",
    "    try:\n",
    "        driver.find_element_by_id('txtEmailId').send_keys(data['email'])\n",
    "        driver.find_element_by_id('txtConfirmEmailId').send_keys(data['email'])\n",
    "        driver.find_element_by_id('txtPassword').send_keys(data['password'])\n",
    "        driver.find_element_by_id('txtConfirmPassword').send_keys(data['password'])\n",
    "        fillGender(driver, data)\n",
    "        driver.find_element_by_id('txtFirstName').send_keys(data['firstName'])\n",
    "        driver.find_element_by_id('txtLastName').send_keys(data['lastName'])\n",
    "        driver.find_element_by_id('txtFatherName').send_keys(data['fatherName'])\n",
    "        driver.find_element_by_id('txtDateOfBirth').send_keys(data['dob'])\n",
    "        driver.find_element_by_id('txtPan').send_keys(data['pan'])\n",
    "        uploadImage(driver, data, 'PP', 'imgUserPhoto')\n",
    "        uploadImage(driver, data, 'PAN', 'imgPAN')\n",
    "        uploadImage(driver, data, 'AADHAAR', 'imgPOA')\n",
    "        driver.find_element_by_id('txtConfirmPan').send_keys(data['pan'])\n",
    "        driver.find_element_by_id('strAadhaarNumber').send_keys(data['aadhaar'])\n",
    "    except:\n",
    "        pass\n",
    "\n",
    "\n",
    "def fillEducationDetails(driver, data):\n",
    "    try:\n",
    "        if data['education'].lower() == 'graduation':\n",
    "            Select(driver.find_element_by_id('ddlQualification')).select_by_index(3)\n",
    "            if data['major'].lower() == 'commerce':\n",
    "                Select(driver.find_element_by_id('ddlMajorSubject')).select_by_index(3)\n",
    "            driver.find_element_by_id('txtGradInstitute').send_keys(data['university'])\n",
    "            Select(driver.find_element_by_id('ddlGradYearofPassing')).select_by_visible_text(str(data['yop']))\n",
    "            driver.find_element_by_id('txtGradPercenteage').send_keys(str(data['percentage']))\n",
    "    except:\n",
    "        pass\n",
    "\n",
    "\n",
    "def fillExperienceDetails(driver, data):\n",
    "    try:\n",
    "        if data['occupation'].lower() == 'employed':\n",
    "            Select(driver.find_element_by_id('ddlOccupation')).select_by_index(2)\n",
    "            if data['major'].lower() == 'commerce':\n",
    "                Select(driver.find_element_by_id('ddlMajorSubject')).select_by_index(3)\n",
    "            if data['country_office'].lower() == 'india':\n",
    "                Select(driver.find_element_by_id('ddlOfficeCountry')).select_by_visible_text(data['country_office'])\n",
    "            driver.find_element_by_id('txtNameOfOrganization').send_keys(data['organization'])\n",
    "            driver.find_element_by_id('txtDesignation').send_keys(data['designation'])\n",
    "            # driver.find_element_by_id('txtFromDate').send_keys(data['from_date'].strftime(\"%d/%m/%Y\"))\n",
    "            address_lines = data['address_office'].split(',')\n",
    "            driver.find_element_by_id('txtOfficeAdd1').send_keys((address_lines[0]+address_lines[1]).strip())\n",
    "            driver.find_element_by_id('txtOfficeAdd2').send_keys(address_lines[2].strip())\n",
    "            driver.find_element_by_id('txtOfficeAdd3').send_keys(address_lines[-1].strip())\n",
    "            driver.find_element_by_id('txtOfficeCity').send_keys(data['city_office'])\n",
    "            driver.find_element_by_id('txtOfficePinCode').send_keys(data['pincode_office'])\n",
    "            if data['phone']:\n",
    "                driver.find_element_by_id('txtEmpSTD').send_keys(data['phone'].split('-')[0])\n",
    "                driver.find_element_by_id('txtEmpPhoneNo').send_keys(data['phone'].split('-')[1])\n",
    "            if data['country_office'].lower() == 'india':\n",
    "                Select(driver.find_element_by_id('ddlOfficeState')).select_by_visible_text(data['state_office'])\n",
    "    except:\n",
    "        pass\n",
    "\n",
    "    "
   ]
  },
  {
   "cell_type": "code",
   "execution_count": 146,
   "id": "satellite-antenna",
   "metadata": {},
   "outputs": [
    {
     "name": "stdout",
     "output_type": "stream",
     "text": [
      "/Users/bharanidharan/code/FormFill/Bhuvanesvari/BhuvanesvariPP.jpeg\n",
      "/Users/bharanidharan/code/FormFill/Bhuvanesvari/BhuvanesvariPAN.jpeg\n",
      "/Users/bharanidharan/code/FormFill/Bhuvanesvari/BhuvanesvariAADHAAR.jpeg\n"
     ]
    }
   ],
   "source": [
    "driver = webdriver.Chrome('./chromedriver')\n",
    "\n",
    "for i in range(len(registration_data)):\n",
    "    driver.get(\"https://certifications.nism.ac.in/nismaol/Candidate/UserRegistration.aspx\")\n",
    "    data = registration_data[i]\n",
    "    fillPersonalDetails(driver, data)\n",
    "    fillContactDetails(driver, data)\n",
    "    fillEducationDetails(driver, data)\n",
    "    fillExperienceDetails(driver, data)\n",
    "    if i < len(registration_data)-1:\n",
    "        driver.execute_script(f\"window.open('about:blank', 'tab'+{i});\")\n",
    "        driver.switch_to.window(f\"tab{i}\")\n",
    "\n"
   ]
  },
  {
   "cell_type": "code",
   "execution_count": 135,
   "id": "improving-indie",
   "metadata": {},
   "outputs": [],
   "source": [
    "driver.close()"
   ]
  },
  {
   "cell_type": "code",
   "execution_count": 109,
   "id": "bored-result",
   "metadata": {},
   "outputs": [
    {
     "data": {
      "text/plain": [
       "250"
      ]
     },
     "execution_count": 109,
     "metadata": {},
     "output_type": "execute_result"
    }
   ],
   "source": [
    "s = \"width: 228px; height: 250px; position: relative; background-color: rgb(0, 0, 0);\"\n",
    "int(s[s.index(\"width: \")+7:s.index(\"px;\")])\n",
    "int(s[s.index(\"height: \")+8:s.rindex(\"px;\")])\n",
    "\n"
   ]
  },
  {
   "cell_type": "code",
   "execution_count": null,
   "id": "amber-jones",
   "metadata": {},
   "outputs": [],
   "source": []
  }
 ],
 "metadata": {
  "kernelspec": {
   "display_name": "Python 3",
   "language": "python",
   "name": "python3"
  },
  "language_info": {
   "codemirror_mode": {
    "name": "ipython",
    "version": 3
   },
   "file_extension": ".py",
   "mimetype": "text/x-python",
   "name": "python",
   "nbconvert_exporter": "python",
   "pygments_lexer": "ipython3",
   "version": "3.8.5"
  }
 },
 "nbformat": 4,
 "nbformat_minor": 5
}
